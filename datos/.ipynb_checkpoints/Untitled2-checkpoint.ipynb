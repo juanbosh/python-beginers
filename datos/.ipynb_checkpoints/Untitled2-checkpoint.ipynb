{
 "cells": [
  {
   "cell_type": "code",
   "execution_count": 1,
   "id": "68074212",
   "metadata": {},
   "outputs": [
    {
     "name": "stdout",
     "output_type": "stream",
     "text": [
      "['rosa', 'amarillo', 'azul', 'rojo', 'verde']\n"
     ]
    }
   ],
   "source": [
    "compra = [\"verde\", \"rojo\", \"azul\", \"amarillo\", \"rosa\"]\n",
    "\n",
    "print(compra[::-1])\n"
   ]
  },
  {
   "cell_type": "code",
   "execution_count": 4,
   "id": "da412e70",
   "metadata": {},
   "outputs": [
    {
     "name": "stdout",
     "output_type": "stream",
     "text": [
      "['amarillo', 'rosa']\n"
     ]
    }
   ],
   "source": [
    "print(compra[3:])"
   ]
  },
  {
   "cell_type": "code",
   "execution_count": 5,
   "id": "ecd65b5a",
   "metadata": {},
   "outputs": [],
   "source": [
    "verde, rojo = compra[:2]"
   ]
  },
  {
   "cell_type": "code",
   "execution_count": 6,
   "id": "c47bd84c",
   "metadata": {},
   "outputs": [
    {
     "name": "stdout",
     "output_type": "stream",
     "text": [
      "rojo\n"
     ]
    }
   ],
   "source": [
    "print(rojo)"
   ]
  },
  {
   "cell_type": "code",
   "execution_count": 7,
   "id": "fcbe338b",
   "metadata": {},
   "outputs": [
    {
     "name": "stdout",
     "output_type": "stream",
     "text": [
      "['verde', 'rojo', 'violeta', 'azul', 'amarillo', 'rosa']\n"
     ]
    }
   ],
   "source": [
    "compra.insert(2,\"violeta\")\n",
    "print(compra)"
   ]
  },
  {
   "cell_type": "code",
   "execution_count": 9,
   "id": "bfa2d14e",
   "metadata": {},
   "outputs": [
    {
     "name": "stdout",
     "output_type": "stream",
     "text": [
      "True\n"
     ]
    }
   ],
   "source": [
    "print (\"rosa\" in compra)"
   ]
  },
  {
   "cell_type": "code",
   "execution_count": 10,
   "id": "786661c4",
   "metadata": {},
   "outputs": [],
   "source": [
    "dias_semana = (\"lunes\",\"martes\",\"miercoles\",\"jueves\",\"viernes\",\"sabado\",\"Domingo\")"
   ]
  },
  {
   "cell_type": "code",
   "execution_count": 11,
   "id": "e3c8a1e9",
   "metadata": {},
   "outputs": [
    {
     "name": "stdout",
     "output_type": "stream",
     "text": [
      "('lunes', 'martes', 'miercoles', 'jueves', 'viernes', 'sabado', 'Domingo')\n"
     ]
    }
   ],
   "source": [
    "print(dias_semana)\n"
   ]
  },
  {
   "cell_type": "code",
   "execution_count": 12,
   "id": "3e0575f8",
   "metadata": {},
   "outputs": [],
   "source": [
    "compra.append(\"negro\")\n"
   ]
  },
  {
   "cell_type": "code",
   "execution_count": 16,
   "id": "626f9266",
   "metadata": {},
   "outputs": [],
   "source": [
    "dictionary = {}\n",
    "for i in range(min(len(dias_semana),len(compra))):\n",
    "    dictionary[dias_semana[i]] = compra[i]"
   ]
  },
  {
   "cell_type": "code",
   "execution_count": 17,
   "id": "f5f106e1",
   "metadata": {},
   "outputs": [
    {
     "name": "stdout",
     "output_type": "stream",
     "text": [
      "{'lunes': 'verde', 'martes': 'rojo', 'miercoles': 'violeta', 'jueves': 'azul', 'viernes': 'amarillo', 'sabado': 'rosa', 'Domingo': 'negro'}\n"
     ]
    }
   ],
   "source": [
    "print (dictionary)"
   ]
  },
  {
   "cell_type": "code",
   "execution_count": 21,
   "id": "1b14d7df",
   "metadata": {},
   "outputs": [],
   "source": [
    "dictio = {compra[i]:dias_semana[i] for i in range(min(len(dias_semana),len(compra))) }"
   ]
  },
  {
   "cell_type": "code",
   "execution_count": 22,
   "id": "602e7e25",
   "metadata": {},
   "outputs": [
    {
     "name": "stdout",
     "output_type": "stream",
     "text": [
      "{'verde': 'lunes', 'rojo': 'martes', 'violeta': 'miercoles', 'azul': 'jueves', 'amarillo': 'viernes', 'rosa': 'sabado', 'negro': 'Domingo'}\n"
     ]
    }
   ],
   "source": [
    "print (dictio)"
   ]
  },
  {
   "cell_type": "code",
   "execution_count": 23,
   "id": "4ac802b1",
   "metadata": {},
   "outputs": [
    {
     "name": "stdout",
     "output_type": "stream",
     "text": [
      "dict_keys(['verde', 'rojo', 'violeta', 'azul', 'amarillo', 'rosa', 'negro'])\n"
     ]
    }
   ],
   "source": [
    "print(dictio.keys())"
   ]
  },
  {
   "cell_type": "code",
   "execution_count": 26,
   "id": "0e8a4c0a",
   "metadata": {},
   "outputs": [],
   "source": [
    "resultado = dictio.fromkeys(compra,0)"
   ]
  },
  {
   "cell_type": "code",
   "execution_count": 27,
   "id": "f1607cac",
   "metadata": {},
   "outputs": [
    {
     "name": "stdout",
     "output_type": "stream",
     "text": [
      "{'verde': 0, 'rojo': 0, 'violeta': 0, 'azul': 0, 'amarillo': 0, 'rosa': 0, 'negro': 0}\n"
     ]
    }
   ],
   "source": [
    "print (resultado)"
   ]
  },
  {
   "cell_type": "code",
   "execution_count": 1,
   "id": "ee5691a3",
   "metadata": {},
   "outputs": [
    {
     "name": "stdout",
     "output_type": "stream",
     "text": [
      "prueba\n"
     ]
    }
   ],
   "source": [
    "print(\"prueba\")"
   ]
  },
  {
   "cell_type": "code",
   "execution_count": null,
   "id": "2352e02d",
   "metadata": {},
   "outputs": [],
   "source": []
  }
 ],
 "metadata": {
  "kernelspec": {
   "display_name": "Python 3 (ipykernel)",
   "language": "python",
   "name": "python3"
  },
  "language_info": {
   "codemirror_mode": {
    "name": "ipython",
    "version": 3
   },
   "file_extension": ".py",
   "mimetype": "text/x-python",
   "name": "python",
   "nbconvert_exporter": "python",
   "pygments_lexer": "ipython3",
   "version": "3.9.13"
  }
 },
 "nbformat": 4,
 "nbformat_minor": 5
}
