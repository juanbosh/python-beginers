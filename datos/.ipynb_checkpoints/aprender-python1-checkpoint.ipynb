{
 "cells": [
  {
   "cell_type": "code",
   "execution_count": 13,
   "id": "aa63e9f1",
   "metadata": {},
   "outputs": [
    {
     "data": {
      "text/plain": [
       "str"
      ]
     },
     "execution_count": 13,
     "metadata": {},
     "output_type": "execute_result"
    }
   ],
   "source": [
    "nombre:str=\"Juan\"\n",
    "type(nombre)    "
   ]
  },
  {
   "cell_type": "code",
   "execution_count": 12,
   "id": "4c5bf4e9",
   "metadata": {},
   "outputs": [],
   "source": [
    "apellido =\"garcia\""
   ]
  },
  {
   "cell_type": "code",
   "execution_count": 3,
   "id": "0ae0cfe2",
   "metadata": {},
   "outputs": [
    {
     "name": "stdout",
     "output_type": "stream",
     "text": [
      "mi nombre es Juan y mi apellido garcia\n"
     ]
    }
   ],
   "source": [
    "print (\"mi nombre es {} y mi apellido {}\".format(nombre,apellido))"
   ]
  },
  {
   "cell_type": "code",
   "execution_count": 8,
   "id": "b8b4d186",
   "metadata": {},
   "outputs": [
    {
     "name": "stdout",
     "output_type": "stream",
     "text": [
      "mi nombre es Juan y mi edad 45\n"
     ]
    }
   ],
   "source": [
    "print(\"mi nombre es %s y mi edad %d\" %(nombre,45))"
   ]
  },
  {
   "cell_type": "code",
   "execution_count": 5,
   "id": "7e75d605",
   "metadata": {},
   "outputs": [],
   "source": [
    "age = 45\n",
    "name = \"juan\""
   ]
  },
  {
   "cell_type": "code",
   "execution_count": 6,
   "id": "214f30d0",
   "metadata": {},
   "outputs": [
    {
     "name": "stdout",
     "output_type": "stream",
     "text": [
      " Mi nombre es Juan y tengo 45\n"
     ]
    }
   ],
   "source": [
    "print(f\" Mi nombre es {nombre} y tengo {age}\")"
   ]
  },
  {
   "cell_type": "code",
   "execution_count": 11,
   "id": "0d70d283",
   "metadata": {},
   "outputs": [
    {
     "data": {
      "text/plain": [
       "float"
      ]
     },
     "execution_count": 11,
     "metadata": {},
     "output_type": "execute_result"
    }
   ],
   "source": [
    "type(1.5)"
   ]
  },
  {
   "cell_type": "code",
   "execution_count": 13,
   "id": "e4c2b1e5",
   "metadata": {},
   "outputs": [
    {
     "name": "stdout",
     "output_type": "stream",
     "text": [
      "2\n"
     ]
    }
   ],
   "source": [
    "print ( 5 % 3)"
   ]
  },
  {
   "cell_type": "code",
   "execution_count": 14,
   "id": "ec678fd3",
   "metadata": {},
   "outputs": [],
   "source": [
    "lenguaje =\"abcdefghijkl\""
   ]
  },
  {
   "cell_type": "code",
   "execution_count": 22,
   "id": "a76efa18",
   "metadata": {},
   "outputs": [
    {
     "name": "stdout",
     "output_type": "stream",
     "text": [
      "Efghi\n"
     ]
    }
   ],
   "source": [
    "print(lenguaje[4:9].capitalize())\n"
   ]
  },
  {
   "cell_type": "code",
   "execution_count": 24,
   "id": "54d34313",
   "metadata": {},
   "outputs": [],
   "source": [
    "a,b,c,d,e = lenguaje[4:9]\n"
   ]
  },
  {
   "cell_type": "code",
   "execution_count": 25,
   "id": "3de877be",
   "metadata": {},
   "outputs": [
    {
     "name": "stdout",
     "output_type": "stream",
     "text": [
      "e\n"
     ]
    }
   ],
   "source": [
    "print(a)"
   ]
  },
  {
   "cell_type": "code",
   "execution_count": 36,
   "id": "61082261",
   "metadata": {},
   "outputs": [],
   "source": [
    "mylist = [\"pepe\",nombre,apellido]\n"
   ]
  },
  {
   "cell_type": "code",
   "execution_count": 37,
   "id": "d5f2ac1e",
   "metadata": {},
   "outputs": [
    {
     "name": "stdout",
     "output_type": "stream",
     "text": [
      "['pepe', 'Juan', 'garcia']\n"
     ]
    }
   ],
   "source": [
    "print(mylist)"
   ]
  },
  {
   "cell_type": "code",
   "execution_count": 38,
   "id": "f4e8ae7b",
   "metadata": {},
   "outputs": [],
   "source": [
    "j,k,l = mylist\n"
   ]
  },
  {
   "cell_type": "code",
   "execution_count": 39,
   "id": "220bab51",
   "metadata": {},
   "outputs": [
    {
     "name": "stdout",
     "output_type": "stream",
     "text": [
      "garcia\n"
     ]
    }
   ],
   "source": [
    "print(l)"
   ]
  },
  {
   "cell_type": "code",
   "execution_count": 40,
   "id": "3c5cef4e",
   "metadata": {},
   "outputs": [
    {
     "name": "stdout",
     "output_type": "stream",
     "text": [
      "garcia\n",
      "['pepe', 'Juan']\n"
     ]
    }
   ],
   "source": [
    "print(mylist.pop(2))\n",
    "print(mylist)"
   ]
  },
  {
   "cell_type": "markdown",
   "id": "1cd938d1",
   "metadata": {},
   "source": [
    "mylistAlreves = mylist.reverse"
   ]
  },
  {
   "cell_type": "code",
   "execution_count": 41,
   "id": "9678b220",
   "metadata": {},
   "outputs": [],
   "source": [
    "mylistA = mylist.sort()"
   ]
  },
  {
   "cell_type": "code",
   "execution_count": 42,
   "id": "75c5184b",
   "metadata": {},
   "outputs": [
    {
     "name": "stdout",
     "output_type": "stream",
     "text": [
      "None\n"
     ]
    }
   ],
   "source": [
    "print(mylistA)"
   ]
  },
  {
   "cell_type": "code",
   "execution_count": 1,
   "id": "eab94411",
   "metadata": {},
   "outputs": [],
   "source": [
    "myTupla = (\"juan\",\"garcia\",\"marquez\")"
   ]
  },
  {
   "cell_type": "code",
   "execution_count": 3,
   "id": "ed2cedb7",
   "metadata": {},
   "outputs": [
    {
     "data": {
      "text/plain": [
       "1"
      ]
     },
     "execution_count": 3,
     "metadata": {},
     "output_type": "execute_result"
    }
   ],
   "source": [
    "myTupla.index(\"garcia\")"
   ]
  },
  {
   "cell_type": "code",
   "execution_count": 2,
   "id": "e0452aec",
   "metadata": {},
   "outputs": [],
   "source": [
    "semana = set([\"lunes\",\"martes\"])"
   ]
  },
  {
   "cell_type": "code",
   "execution_count": 3,
   "id": "838ed5ac",
   "metadata": {},
   "outputs": [
    {
     "name": "stdout",
     "output_type": "stream",
     "text": [
      "{'martes', 'lunes'}\n"
     ]
    }
   ],
   "source": [
    "print(semana)"
   ]
  },
  {
   "cell_type": "code",
   "execution_count": 4,
   "id": "3a835555",
   "metadata": {},
   "outputs": [],
   "source": [
    "nombre = {\"juan\" : \"joao\", \"marco\" : \"marrcoo\"}"
   ]
  },
  {
   "cell_type": "code",
   "execution_count": 5,
   "id": "49b7122e",
   "metadata": {},
   "outputs": [
    {
     "name": "stdout",
     "output_type": "stream",
     "text": [
      "True\n"
     ]
    }
   ],
   "source": [
    "print (\"juan\" in nombre)"
   ]
  },
  {
   "cell_type": "code",
   "execution_count": 6,
   "id": "385fdc68",
   "metadata": {},
   "outputs": [
    {
     "name": "stdout",
     "output_type": "stream",
     "text": [
      "False\n"
     ]
    }
   ],
   "source": [
    "print (\"joao\" in nombre)"
   ]
  },
  {
   "cell_type": "code",
   "execution_count": 7,
   "id": "638c8673",
   "metadata": {},
   "outputs": [
    {
     "name": "stdout",
     "output_type": "stream",
     "text": [
      "dict_items([('juan', 'joao'), ('marco', 'marrcoo')])\n"
     ]
    }
   ],
   "source": [
    "print(nombre.items())"
   ]
  },
  {
   "cell_type": "code",
   "execution_count": 8,
   "id": "579957e7",
   "metadata": {},
   "outputs": [
    {
     "name": "stdout",
     "output_type": "stream",
     "text": [
      "dict_keys(['juan', 'marco'])\n"
     ]
    }
   ],
   "source": [
    "print(nombre.keys())"
   ]
  },
  {
   "cell_type": "code",
   "execution_count": 9,
   "id": "172504b9",
   "metadata": {},
   "outputs": [
    {
     "name": "stdout",
     "output_type": "stream",
     "text": [
      "dict_values(['joao', 'marrcoo'])\n"
     ]
    }
   ],
   "source": [
    "print(nombre.values())"
   ]
  },
  {
   "cell_type": "code",
   "execution_count": 16,
   "id": "3e5fe779",
   "metadata": {},
   "outputs": [
    {
     "name": "stdout",
     "output_type": "stream",
     "text": [
      "{'juan': 'garcia', 'pepe': 'garcia', 'santiago': 'garcia'}\n"
     ]
    }
   ],
   "source": [
    "nombre = (\"juan\", \"pepe\", \"santiago\")\n",
    "print(dict.fromkeys(nombre,apellido))"
   ]
  },
  {
   "cell_type": "code",
   "execution_count": 17,
   "id": "d83d7870",
   "metadata": {},
   "outputs": [
    {
     "name": "stdout",
     "output_type": "stream",
     "text": [
      "<class 'tuple'>\n"
     ]
    }
   ],
   "source": [
    "print(type(nombre))"
   ]
  },
  {
   "cell_type": "code",
   "execution_count": 18,
   "id": "386024e4",
   "metadata": {},
   "outputs": [],
   "source": [
    "apellidos = [\"garcia\",\"martinez\"]\n"
   ]
  },
  {
   "cell_type": "code",
   "execution_count": 19,
   "id": "a83aaf03",
   "metadata": {},
   "outputs": [
    {
     "name": "stdout",
     "output_type": "stream",
     "text": [
      "{'garcia': 'garcia', 'martinez': 'garcia'}\n"
     ]
    }
   ],
   "source": [
    "print(dict.fromkeys(apellidos,apellido))"
   ]
  },
  {
   "cell_type": "code",
   "execution_count": 1,
   "id": "b005e8ba",
   "metadata": {},
   "outputs": [],
   "source": [
    "def funciona(nota):\n",
    "    if nota > 5:\n",
    "        print(\"aprobado\")"
   ]
  },
  {
   "cell_type": "code",
   "execution_count": 2,
   "id": "c23942e9",
   "metadata": {},
   "outputs": [
    {
     "name": "stdout",
     "output_type": "stream",
     "text": [
      "aprobado\n"
     ]
    }
   ],
   "source": [
    "funciona(6)"
   ]
  },
  {
   "cell_type": "code",
   "execution_count": 3,
   "id": "393b071b",
   "metadata": {},
   "outputs": [
    {
     "name": "stdout",
     "output_type": "stream",
     "text": [
      "aprobado\n",
      "aprobado\n",
      "aprobado\n",
      "aprobado\n"
     ]
    }
   ],
   "source": [
    "myvalor = 1\n",
    "while myvalor<10:\n",
    "    funciona(myvalor)\n",
    "    myvalor +=1"
   ]
  },
  {
   "cell_type": "code",
   "execution_count": 8,
   "id": "a251b399",
   "metadata": {},
   "outputs": [],
   "source": [
    "\n",
    "def fibonacci(numero):\n",
    "    a = 0\n",
    "    b = 1\n",
    "    while a < numero:\n",
    "        a,b = b,a + b\n",
    "        print (a)    \n",
    "    "
   ]
  },
  {
   "cell_type": "code",
   "execution_count": 11,
   "id": "d6cad0ba",
   "metadata": {},
   "outputs": [
    {
     "name": "stdout",
     "output_type": "stream",
     "text": [
      "1\n",
      "1\n",
      "2\n",
      "3\n",
      "5\n",
      "8\n",
      "13\n",
      "21\n",
      "34\n",
      "55\n"
     ]
    }
   ],
   "source": [
    "fibonacci(50)"
   ]
  },
  {
   "cell_type": "code",
   "execution_count": 25,
   "id": "8e5fc6bd",
   "metadata": {},
   "outputs": [],
   "source": [
    "def primo(numero):\n",
    "    primo = True\n",
    "    for i in range(2,numero):\n",
    "        if (numero % i) == 0:\n",
    "            primo = False\n",
    "    if primo == True:\n",
    "        print(f\"{numero} el numero es primo\")"
   ]
  },
  {
   "cell_type": "code",
   "execution_count": 26,
   "id": "bb82a6a7",
   "metadata": {},
   "outputs": [],
   "source": [
    "primo(20)\n"
   ]
  },
  {
   "cell_type": "code",
   "execution_count": 27,
   "id": "73bb4998",
   "metadata": {},
   "outputs": [
    {
     "name": "stdout",
     "output_type": "stream",
     "text": [
      "7 el numero es primo\n"
     ]
    }
   ],
   "source": [
    "primo(7)\n"
   ]
  },
  {
   "cell_type": "code",
   "execution_count": 28,
   "id": "7b8d61c7",
   "metadata": {},
   "outputs": [],
   "source": [
    "def es_primo(num):\n",
    "    for n in range(2, num):\n",
    "        if num % n == 0:\n",
    "            print(\"No es primo\", n, \"es divisor\")\n",
    "            return False\n",
    "    print(\"Es primo\")\n",
    "    return True"
   ]
  },
  {
   "cell_type": "code",
   "execution_count": 29,
   "id": "dfd88828",
   "metadata": {},
   "outputs": [
    {
     "name": "stdout",
     "output_type": "stream",
     "text": [
      "No es primo 2 es divisor\n"
     ]
    },
    {
     "data": {
      "text/plain": [
       "False"
      ]
     },
     "execution_count": 29,
     "metadata": {},
     "output_type": "execute_result"
    }
   ],
   "source": [
    "es_primo(20)"
   ]
  },
  {
   "cell_type": "code",
   "execution_count": null,
   "id": "5d106025",
   "metadata": {},
   "outputs": [],
   "source": []
  }
 ],
 "metadata": {
  "kernelspec": {
   "display_name": "Python 3 (ipykernel)",
   "language": "python",
   "name": "python3"
  },
  "language_info": {
   "codemirror_mode": {
    "name": "ipython",
    "version": 3
   },
   "file_extension": ".py",
   "mimetype": "text/x-python",
   "name": "python",
   "nbconvert_exporter": "python",
   "pygments_lexer": "ipython3",
   "version": "3.9.13"
  }
 },
 "nbformat": 4,
 "nbformat_minor": 5
}
