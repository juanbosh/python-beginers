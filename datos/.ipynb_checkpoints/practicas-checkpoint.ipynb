{
 "cells": [
  {
   "cell_type": "code",
   "execution_count": 1,
   "id": "e9545b18",
   "metadata": {},
   "outputs": [
    {
     "name": "stdout",
     "output_type": "stream",
     "text": [
      "['rosa', 'amarillo', 'azul', 'rojo', 'verde']\n"
     ]
    }
   ],
   "source": [
    "compra = [\"verde\", \"rojo\", \"azul\", \"amarillo\", \"rosa\"]\n",
    "\n",
    "print(compra[::-1])\n"
   ]
  },
  {
   "cell_type": "code",
   "execution_count": 4,
   "id": "1f33a5f1",
   "metadata": {},
   "outputs": [
    {
     "name": "stdout",
     "output_type": "stream",
     "text": [
      "['amarillo', 'rosa']\n"
     ]
    }
   ],
   "source": [
    "print(compra[3:])"
   ]
  },
  {
   "cell_type": "code",
   "execution_count": 5,
   "id": "ba0e9408",
   "metadata": {},
   "outputs": [],
   "source": [
    "verde, rojo = compra[:2]"
   ]
  },
  {
   "cell_type": "code",
   "execution_count": 6,
   "id": "c816cc96",
   "metadata": {},
   "outputs": [
    {
     "name": "stdout",
     "output_type": "stream",
     "text": [
      "rojo\n"
     ]
    }
   ],
   "source": [
    "print(rojo)"
   ]
  },
  {
   "cell_type": "code",
   "execution_count": 7,
   "id": "e50a33fe",
   "metadata": {},
   "outputs": [
    {
     "name": "stdout",
     "output_type": "stream",
     "text": [
      "['verde', 'rojo', 'violeta', 'azul', 'amarillo', 'rosa']\n"
     ]
    }
   ],
   "source": [
    "compra.insert(2,\"violeta\")\n",
    "print(compra)"
   ]
  },
  {
   "cell_type": "code",
   "execution_count": 9,
   "id": "4b8fa4dd",
   "metadata": {},
   "outputs": [
    {
     "name": "stdout",
     "output_type": "stream",
     "text": [
      "True\n"
     ]
    }
   ],
   "source": [
    "print (\"rosa\" in compra)"
   ]
  },
  {
   "cell_type": "code",
   "execution_count": 32,
   "id": "60513a68",
   "metadata": {},
   "outputs": [],
   "source": [
    "dias_semana = (\"lunes\",\"martes\",\"miercoles\",\"jueves\",\"viernes\",\"sabado\",\"domingo\")"
   ]
  },
  {
   "cell_type": "code",
   "execution_count": 11,
   "id": "11882527",
   "metadata": {},
   "outputs": [
    {
     "name": "stdout",
     "output_type": "stream",
     "text": [
      "('lunes', 'martes', 'miercoles', 'jueves', 'viernes', 'sabado', 'Domingo')\n"
     ]
    }
   ],
   "source": [
    "print(dias_semana)\n"
   ]
  },
  {
   "cell_type": "code",
   "execution_count": 12,
   "id": "18b31ade",
   "metadata": {},
   "outputs": [],
   "source": [
    "compra.append(\"negro\")\n"
   ]
  },
  {
   "cell_type": "code",
   "execution_count": 16,
   "id": "7120a56d",
   "metadata": {},
   "outputs": [],
   "source": [
    "dictionary = {}\n",
    "for i in range(min(len(dias_semana),len(compra))):\n",
    "    dictionary[dias_semana[i]] = compra[i]"
   ]
  },
  {
   "cell_type": "code",
   "execution_count": 17,
   "id": "172a05af",
   "metadata": {},
   "outputs": [
    {
     "name": "stdout",
     "output_type": "stream",
     "text": [
      "{'lunes': 'verde', 'martes': 'rojo', 'miercoles': 'violeta', 'jueves': 'azul', 'viernes': 'amarillo', 'sabado': 'rosa', 'Domingo': 'negro'}\n"
     ]
    }
   ],
   "source": [
    "print (dictionary)"
   ]
  },
  {
   "cell_type": "code",
   "execution_count": 21,
   "id": "1f6c72b8",
   "metadata": {},
   "outputs": [],
   "source": [
    "dictio = {compra[i]:dias_semana[i] for i in range(min(len(dias_semana),len(compra))) }"
   ]
  },
  {
   "cell_type": "code",
   "execution_count": 22,
   "id": "78113e4f",
   "metadata": {},
   "outputs": [
    {
     "name": "stdout",
     "output_type": "stream",
     "text": [
      "{'verde': 'lunes', 'rojo': 'martes', 'violeta': 'miercoles', 'azul': 'jueves', 'amarillo': 'viernes', 'rosa': 'sabado', 'negro': 'Domingo'}\n"
     ]
    }
   ],
   "source": [
    "print (dictio)"
   ]
  },
  {
   "cell_type": "code",
   "execution_count": 23,
   "id": "d1766402",
   "metadata": {},
   "outputs": [
    {
     "name": "stdout",
     "output_type": "stream",
     "text": [
      "dict_keys(['verde', 'rojo', 'violeta', 'azul', 'amarillo', 'rosa', 'negro'])\n"
     ]
    }
   ],
   "source": [
    "print(dictio.keys())"
   ]
  },
  {
   "cell_type": "code",
   "execution_count": 26,
   "id": "e80d745b",
   "metadata": {},
   "outputs": [],
   "source": [
    "resultado = dictio.fromkeys(compra,0)"
   ]
  },
  {
   "cell_type": "code",
   "execution_count": 27,
   "id": "e85d36c2",
   "metadata": {},
   "outputs": [
    {
     "name": "stdout",
     "output_type": "stream",
     "text": [
      "{'verde': 0, 'rojo': 0, 'violeta': 0, 'azul': 0, 'amarillo': 0, 'rosa': 0, 'negro': 0}\n"
     ]
    }
   ],
   "source": [
    "print (resultado)"
   ]
  },
  {
   "cell_type": "code",
   "execution_count": 33,
   "id": "970de63a",
   "metadata": {},
   "outputs": [
    {
     "name": "stdout",
     "output_type": "stream",
     "text": [
      "lunes\n",
      " a currar\n",
      "martes\n",
      " a currar\n",
      "miercoles\n",
      " a currar\n",
      "jueves\n",
      " a currar\n",
      "viernes\n",
      " a currar\n",
      "sabado\n",
      " a currar\n",
      "domingo\n",
      "que dia mas bonito\n"
     ]
    }
   ],
   "source": [
    "for dia in dias_semana:\n",
    "    print (dia)\n",
    "    if dia == \"domingo\":\n",
    "        print (\"que dia mas bonito\")\n",
    "    else:\n",
    "        print(\" a currar\")"
   ]
  },
  {
   "cell_type": "code",
   "execution_count": 46,
   "id": "d22a5146",
   "metadata": {},
   "outputs": [],
   "source": [
    "\n",
    "class Persona:\n",
    "    def __init__(self, nombre, apellido):\n",
    "        self.nombre = nombre\n",
    "        self.apellido = apellido\n",
    "    def quien(self):  \n",
    "        print(f\"soy {self.nombre} con apellido {self.apellido}\")\n",
    "        "
   ]
  },
  {
   "cell_type": "code",
   "execution_count": 47,
   "id": "f1c6b858",
   "metadata": {},
   "outputs": [
    {
     "name": "stdout",
     "output_type": "stream",
     "text": [
      "soy juan con apellido garcia\n"
     ]
    }
   ],
   "source": [
    "juan = Persona(\"juan\",\"garcia\")\n",
    "juan.quien()"
   ]
  },
  {
   "cell_type": "code",
   "execution_count": 53,
   "id": "054a74f2",
   "metadata": {},
   "outputs": [
    {
     "name": "stdout",
     "output_type": "stream",
     "text": [
      "Fecha y hora actual: 2024-02-04 00:23:21.339478\n",
      "Fecha específica: 2022-12-31 00:00:00\n"
     ]
    }
   ],
   "source": [
    "import datetime\n",
    "\n",
    "# Obtener la fecha y hora actual\n",
    "fecha_actual = datetime.datetime.now()\n",
    "print(\"Fecha y hora actual:\", fecha_actual)\n",
    "\n",
    "# Crear una fecha específica\n",
    "fecha_especifica = datetime.datetime(2022, 12, 31)\n",
    "print(\"Fecha específica:\", fecha_especifica)"
   ]
  },
  {
   "cell_type": "code",
   "execution_count": 56,
   "id": "4088af3a",
   "metadata": {},
   "outputs": [],
   "source": [
    "sum2 = lambda v1,v2: print(v1+v2)"
   ]
  },
  {
   "cell_type": "code",
   "execution_count": 57,
   "id": "756c3ff2",
   "metadata": {},
   "outputs": [
    {
     "name": "stdout",
     "output_type": "stream",
     "text": [
      "3\n"
     ]
    }
   ],
   "source": [
    "sum2(1,2)"
   ]
  },
  {
   "cell_type": "code",
   "execution_count": 58,
   "id": "a1d508e0",
   "metadata": {},
   "outputs": [
    {
     "name": "stdout",
     "output_type": "stream",
     "text": [
      "10\n",
      "15\n"
     ]
    }
   ],
   "source": [
    "def multiplicador(n):\n",
    "    def closure(x):\n",
    "        return x * n\n",
    "    return closure\n",
    "\n",
    "# Creamos dos funciones de cierre con diferentes valores para \"n\"\n",
    "duplicar = multiplicador(2)\n",
    "triplicar = multiplicador(3)\n",
    "\n",
    "# Utilizamos las funciones de cierre\n",
    "print(duplicar(5))  # Output: 10\n",
    "print(triplicar(5))  # Output: 15\n"
   ]
  },
  {
   "cell_type": "code",
   "execution_count": 59,
   "id": "7be6faea",
   "metadata": {},
   "outputs": [
    {
     "name": "stdout",
     "output_type": "stream",
     "text": [
      "[1, 4, 9, 16, 25]\n"
     ]
    }
   ],
   "source": [
    "# Definimos una función para calcular el cuadrado de un número\n",
    "def calcular_cuadrado(x):\n",
    "    return x ** 2\n",
    "\n",
    "# Creamos una lista de números\n",
    "numeros = [1, 2, 3, 4, 5]\n",
    "\n",
    "# Usamos map() para calcular el cuadrado de cada número en la lista\n",
    "resultado = map(calcular_cuadrado, numeros)\n",
    "\n",
    "# Convertimos el iterador a una lista para ver los resultados\n",
    "resultado_lista = list(resultado)\n",
    "\n",
    "print(resultado_lista)  # Output: [1, 4, 9, 16, 25]\n"
   ]
  },
  {
   "cell_type": "code",
   "execution_count": 60,
   "id": "b8191ed4",
   "metadata": {},
   "outputs": [
    {
     "name": "stdout",
     "output_type": "stream",
     "text": [
      "[2, 4, 6, 8, 10]\n"
     ]
    }
   ],
   "source": [
    "# Definimos una función para verificar si un número es par\n",
    "def es_par(x):\n",
    "    return x % 2 == 0\n",
    "\n",
    "# Creamos una lista de números\n",
    "numeros = [1, 2, 3, 4, 5, 6, 7, 8, 9, 10]\n",
    "\n",
    "# Usamos filter() para filtrar los números pares de la lista\n",
    "resultado = filter(es_par, numeros)\n",
    "\n",
    "# Convertimos el iterador a una lista para ver los resultados\n",
    "resultado_lista = list(resultado)\n",
    "\n",
    "print(resultado_lista)  # Output: [2, 4, 6, 8, 10]\n"
   ]
  },
  {
   "cell_type": "code",
   "execution_count": 61,
   "id": "90b506db",
   "metadata": {},
   "outputs": [
    {
     "name": "stdout",
     "output_type": "stream",
     "text": [
      "15\n"
     ]
    }
   ],
   "source": [
    "from functools import reduce\n",
    "\n",
    "# Definimos una función para sumar dos números\n",
    "def sumar(a, b):\n",
    "    return a + b\n",
    "\n",
    "# Creamos una lista de números\n",
    "numeros = [1, 2, 3, 4, 5]\n",
    "\n",
    "# Usamos reduce() para calcular la suma de los números en la lista\n",
    "resultado = reduce(sumar, numeros)\n",
    "\n",
    "print(resultado)  # Output: 15 (1 + 2 + 3 + 4 + 5)\n"
   ]
  },
  {
   "cell_type": "code",
   "execution_count": 69,
   "id": "ac058379",
   "metadata": {},
   "outputs": [
    {
     "name": "stdout",
     "output_type": "stream",
     "text": [
      "En un lugar de la mancha\n",
      "\n",
      "que no me quiero acordar\n",
      "\n",
      "\n",
      "\n"
     ]
    }
   ],
   "source": [
    "txt_file = open(\"./texto.txt\",\"r+\")\n",
    "txt_file.write(\"En un lugar de la mancha\")\n",
    "txt_file.close()\n",
    "\n",
    "txt_file = open(\"./texto.txt\",\"r+\")\n",
    "for line in txt_file.readlines():\n",
    "    print (line)\n",
    "txt_file.close()\n",
    "\n"
   ]
  },
  {
   "cell_type": "code",
   "execution_count": 64,
   "id": "d106dfaa",
   "metadata": {},
   "outputs": [],
   "source": [
    "import json\n",
    "\n",
    "# Datos a escribir en el archivo JSON\n",
    "datos = {\n",
    "    \"nombre\": \"Maria\",\n",
    "    \"edad\": 25,\n",
    "    \"ocupacion\": \"Doctora\"\n",
    "}\n",
    "\n",
    "# Escribir los datos en el archivo JSON\n",
    "with open('nuevos_datos.json', 'w') as archivo:\n",
    "    json.dump(datos, archivo, indent=4)\n"
   ]
  },
  {
   "cell_type": "code",
   "execution_count": 65,
   "id": "4c0cc7c2",
   "metadata": {},
   "outputs": [
    {
     "name": "stdout",
     "output_type": "stream",
     "text": [
      "Nombre: Maria\n",
      "Edad: 25\n",
      "Ocupación: Doctora\n"
     ]
    }
   ],
   "source": [
    "import json\n",
    "\n",
    "# Abrir el archivo JSON\n",
    "with open('nuevos_datos.json', 'r') as archivo:\n",
    "    # Cargar el contenido del archivo JSON en un diccionario\n",
    "    datos = json.load(archivo)\n",
    "\n",
    "# Acceder a los datos\n",
    "print(\"Nombre:\", datos['nombre'])\n",
    "print(\"Edad:\", datos['edad'])\n",
    "print(\"Ocupación:\", datos['ocupacion'])\n"
   ]
  },
  {
   "cell_type": "code",
   "execution_count": 70,
   "id": "0d7041f3",
   "metadata": {},
   "outputs": [
    {
     "name": "stdout",
     "output_type": "stream",
     "text": [
      "Dirección IP encontrada: 192.168.1.1\n",
      "Número de DNI encontrado: 12345678Z\n"
     ]
    }
   ],
   "source": [
    "import re\n",
    "\n",
    "# Definir una cadena con una dirección IP y un DNI\n",
    "cadena = \"La dirección IP es 192.168.1.1 y el DNI es 12345678Z\"\n",
    "\n",
    "# Patrón para buscar una dirección IP\n",
    "patron_ip = r'\\b(?:\\d{1,3}\\.){3}\\d{1,3}\\b'\n",
    "\n",
    "# Patrón para buscar un número de DNI\n",
    "patron_dni = r'\\b\\d{8}[A-Za-z]\\b'\n",
    "\n",
    "# Buscar una dirección IP en la cadena\n",
    "resultado_ip = re.search(patron_ip, cadena)\n",
    "if resultado_ip:\n",
    "    print(\"Dirección IP encontrada:\", resultado_ip.group())\n",
    "else:\n",
    "    print(\"Dirección IP no encontrada.\")\n",
    "\n",
    "# Buscar un número de DNI en la cadena\n",
    "resultado_dni = re.search(patron_dni, cadena)\n",
    "if resultado_dni:\n",
    "    print(\"Número de DNI encontrado:\", resultado_dni.group())\n",
    "else:\n",
    "    print(\"Número de DNI no encontrado.\")\n"
   ]
  },
  {
   "cell_type": "code",
   "execution_count": 5,
   "id": "3130469d",
   "metadata": {},
   "outputs": [],
   "source": [
    "import csv\n",
    "csv_file = open('csv_file.csv', 'w', newline='')\n",
    "csv_writer = csv.writer(csv_file)\n",
    "\n",
    "# Escribir filas en el archivo CSV\n",
    "csv_writer.writerow(['Nombre', 'Edad', 'Ocupación'])\n",
    "csv_writer.writerow(['Juan', 30, 'Ingeniero'])\n",
    "csv_writer.writerow(['María', 25, 'Doctora'])\n",
    "\n",
    "# Cerrar el archivo CSV manualmente\n",
    "csv_file.close()\n"
   ]
  },
  {
   "cell_type": "code",
   "execution_count": 7,
   "id": "77e58d6a",
   "metadata": {},
   "outputs": [
    {
     "name": "stdout",
     "output_type": "stream",
     "text": [
      "15\n"
     ]
    }
   ],
   "source": [
    "def _sum(*values: int) -> int:\n",
    "    result = 0\n",
    "    for value in values:\n",
    "        result += value\n",
    "    return result\n",
    "print(_sum(1,2,3,4,5))"
   ]
  },
  {
   "cell_type": "code",
   "execution_count": 12,
   "id": "976643e6",
   "metadata": {},
   "outputs": [
    {
     "name": "stdout",
     "output_type": "stream",
     "text": [
      "0\n",
      "2\n",
      "4\n",
      "6\n",
      "8\n",
      "10\n"
     ]
    }
   ],
   "source": [
    "def pares(limite:int) -> int:\n",
    "    for i in range(0,limite+1,2):\n",
    "        yield i\n",
    "for par in pares(10):\n",
    "    print(par)"
   ]
  },
  {
   "cell_type": "code",
   "execution_count": 13,
   "id": "a562cfab",
   "metadata": {},
   "outputs": [
    {
     "name": "stdout",
     "output_type": "stream",
     "text": [
      "Tipo de args: <class 'tuple'>\n",
      "Argumentos posicionales recopilados: (1, 2, 3, 4, 5)\n",
      "Tipo de kwargs: <class 'dict'>\n",
      "Argumentos de palabras clave recopilados: {'a': 1, 'b': 2, 'c': 3}\n"
     ]
    }
   ],
   "source": [
    "def funcion_con_un_asterisco(*args):\n",
    "    print(\"Tipo de args:\", type(args))\n",
    "    print(\"Argumentos posicionales recopilados:\", args)\n",
    "\n",
    "def funcion_con_doble_asterisco(**kwargs):\n",
    "    print(\"Tipo de kwargs:\", type(kwargs))\n",
    "    print(\"Argumentos de palabras clave recopilados:\", kwargs)\n",
    "\n",
    "# Llamadas a las funciones con diferentes tipos de argumentos\n",
    "funcion_con_un_asterisco(1, 2, 3, 4, 5)\n",
    "funcion_con_doble_asterisco(a=1, b=2, c=3)\n"
   ]
  },
  {
   "cell_type": "code",
   "execution_count": 17,
   "id": "5cbdfacc",
   "metadata": {},
   "outputs": [
    {
     "name": "stdout",
     "output_type": "stream",
     "text": [
      "0b1000\n"
     ]
    }
   ],
   "source": [
    "def res2bin(func):\n",
    "    def wrapper(*args, **kwargs):\n",
    "        result = func(*args, **kwargs)  # Llamar a la función original con los argumentos\n",
    "        return bin(result)  # Convertir el resultado a binario y devolverlo\n",
    "    return wrapper\n",
    "\n",
    "def power(x: int, y: int) -> int:\n",
    "    return x ** y\n",
    "\n",
    "# Decorar la función power con res2bin\n",
    "power_decorada = res2bin(power)\n",
    "\n",
    "# Llamar a la función decorada para obtener el resultado\n",
    "resultado = power_decorada(2, 3)\n",
    "\n",
    "print(resultado)  # Output: '0b1000'\n"
   ]
  },
  {
   "cell_type": "code",
   "execution_count": 19,
   "id": "7ba628d0",
   "metadata": {},
   "outputs": [
    {
     "name": "stdout",
     "output_type": "stream",
     "text": [
      "0b1010\n"
     ]
    }
   ],
   "source": [
    "@res2bin\n",
    "def sum2num(val1:int,val2:int)-> int:\n",
    "    return val1+val2\n",
    "\n",
    "print(sum2num(2,8))"
   ]
  },
  {
   "cell_type": "code",
   "execution_count": 20,
   "id": "4893ad8d",
   "metadata": {},
   "outputs": [
    {
     "name": "stdout",
     "output_type": "stream",
     "text": [
      "Juan\n",
      "Carlos\n",
      "Objeto Persona\n"
     ]
    }
   ],
   "source": [
    "class Persona:\n",
    "    tipo = \"Objeto Persona\"  # Atributo de clase\n",
    "    \n",
    "    def __init__(self, nombre, edad):\n",
    "        self.__nombre = nombre\n",
    "        self.edad = edad\n",
    "    \n",
    "    def saludar(self):\n",
    "        print(f\"Hola, soy {self.__nombre} y tengo {self.edad} años.\")\n",
    "    \n",
    "    # Getter para obtener el nombre\n",
    "    def get_nombre(self):\n",
    "        return self.__nombre\n",
    "    \n",
    "    # Setter para establecer el nombre\n",
    "    def set_nombre(self, nuevo_nombre):\n",
    "        self.__nombre = nuevo_nombre\n",
    "\n",
    "# Crear un objeto de la clase Persona\n",
    "juan = Persona(\"Juan\", 30)\n",
    "\n",
    "# Usar el getter para obtener el nombre\n",
    "print(juan.get_nombre())  # Output: \"Juan\"\n",
    "\n",
    "# Usar el setter para cambiar el nombre\n",
    "juan.set_nombre(\"Carlos\")\n",
    "\n",
    "# Verificar el cambio utilizando el getter\n",
    "print(juan.get_nombre())  # Output: \"Carlos\"\n",
    "\n",
    "# Acceder al atributo de clase desde una instancia\n",
    "print(juan.tipo)  # Output: \"Objeto Persona\"\n"
   ]
  },
  {
   "cell_type": "code",
   "execution_count": 21,
   "id": "0fd5c0f8",
   "metadata": {},
   "outputs": [
    {
     "name": "stdout",
     "output_type": "stream",
     "text": [
      "Resultado de la suma: 8\n",
      "Resultado de la resta: 3\n"
     ]
    }
   ],
   "source": [
    "class Calculadora:\n",
    "    @staticmethod\n",
    "    def sumar(a, b):\n",
    "        return a + b\n",
    "\n",
    "    @staticmethod\n",
    "    def restar(a, b):\n",
    "        return a - b\n",
    "\n",
    "# Llamada a métodos estáticos sin crear una instancia de la clase\n",
    "resultado_suma = Calculadora.sumar(5, 3)\n",
    "resultado_resta = Calculadora.restar(10, 7)\n",
    "\n",
    "print(\"Resultado de la suma:\", resultado_suma)  # Output: 8\n",
    "print(\"Resultado de la resta:\", resultado_resta)  # Output: 3\n"
   ]
  },
  {
   "cell_type": "code",
   "execution_count": 24,
   "id": "5a879e1e",
   "metadata": {},
   "outputs": [
    {
     "name": "stdout",
     "output_type": "stream",
     "text": [
      "No son personas iguales\n"
     ]
    }
   ],
   "source": [
    "class Persona2:\n",
    "    def __init__(self, nombre, edad):\n",
    "        self.nombre = nombre\n",
    "        self.edad = edad\n",
    "    \n",
    "    def __eq__(self, otra_persona):\n",
    "        if isinstance(otra_persona, Persona):\n",
    "            return self.nombre == otra_persona.nombre and self.edad == otra_persona.edad\n",
    "        return False\n",
    "\n",
    "# Crear instancias de la clase Persona\n",
    "juan = Persona2(\"Juan\", 30)\n",
    "ana = Persona2(\"Ana\", 25)\n",
    "\n",
    "# Comparar las instancias usando el operador ==\n",
    "if juan == ana:\n",
    "    print(\"Son personas iguales\")\n",
    "else:\n",
    "    print(\"No son personas iguales\")\n"
   ]
  },
  {
   "cell_type": "code",
   "execution_count": 25,
   "id": "8000136c",
   "metadata": {},
   "outputs": [
    {
     "name": "stdout",
     "output_type": "stream",
     "text": [
      "Persona: Juan, 30 años\n",
      "Persona('Juan', 30)\n"
     ]
    }
   ],
   "source": [
    "class Persona:\n",
    "    def __init__(self, nombre, edad):\n",
    "        self.nombre = nombre\n",
    "        self.edad = edad\n",
    "    \n",
    "    def __str__(self):\n",
    "        return f\"Persona: {self.nombre}, {self.edad} años\"\n",
    "    \n",
    "    def __repr__(self):\n",
    "        return f\"Persona('{self.nombre}', {self.edad})\"\n",
    "\n",
    "# Crear una instancia de la clase Persona\n",
    "juan = Persona(\"Juan\", 30)\n",
    "\n",
    "# Utilizar los métodos str() y repr()\n",
    "print(str(juan))   # Output: \"Persona: Juan, 30 años\"\n",
    "print(repr(juan))  # Output: \"Persona('Juan', 30)\"\n"
   ]
  },
  {
   "cell_type": "code",
   "execution_count": 26,
   "id": "c14b597c",
   "metadata": {},
   "outputs": [],
   "source": [
    "# Definición de la clase GestorArchivo que actúa como un gestor de contexto\n",
    "class GestorArchivo:\n",
    "    # Método de inicialización que recibe el nombre del archivo y el modo de apertura\n",
    "    def __init__(self, nombre_archivo, modo):\n",
    "        self.nombre_archivo = nombre_archivo  # Nombre del archivo\n",
    "        self.modo = modo  # Modo de apertura del archivo (por ejemplo, 'w' para escritura)\n",
    "\n",
    "    # Método llamado cuando se entra en el contexto controlado por el gestor de contexto\n",
    "    def __enter__(self):\n",
    "        # Abre el archivo en el modo especificado\n",
    "        self.archivo = open(self.nombre_archivo, self.modo)\n",
    "        # Devuelve el objeto de archivo para que se pueda utilizar dentro del bloque de código\n",
    "        return self.archivo\n",
    "\n",
    "    # Método llamado cuando se sale del contexto controlado por el gestor de contexto\n",
    "    def __exit__(self, exc_type, exc_value, traceback):\n",
    "        # Cierra el archivo después de que el bloque de código haya terminado\n",
    "        self.archivo.close()\n",
    "\n",
    "# Ejemplo de uso del gestor de contexto\n",
    "# Utiliza la declaración with para crear un contexto controlado por el gestor de contexto\n",
    "# Dentro del bloque with, el archivo se abrirá automáticamente y se cerrará al salir del bloque\n",
    "with GestorArchivo('archivo.txt', 'w') as archivo:\n",
    "    # Escribe en el archivo dentro del bloque with\n",
    "    archivo.write('Hola, mundo!')\n"
   ]
  },
  {
   "cell_type": "code",
   "execution_count": 27,
   "id": "58184d7c",
   "metadata": {},
   "outputs": [
    {
     "name": "stdout",
     "output_type": "stream",
     "text": [
      "{\"nombre\": \"Juan\", \"edad\": 30}\n"
     ]
    }
   ],
   "source": [
    "# Definición de un mixin para la serialización de objetos\n",
    "class SerializableMixin:\n",
    "    def to_json(self):\n",
    "        import json\n",
    "        return json.dumps(self.__dict__)\n",
    "\n",
    "# Clase base que mezcla el mixin\n",
    "class Persona(SerializableMixin):\n",
    "    def __init__(self, nombre, edad):\n",
    "        self.nombre = nombre\n",
    "        self.edad = edad\n",
    "\n",
    "# Crear una instancia de la clase Persona\n",
    "juan = Persona(\"Juan\", 30)\n",
    "\n",
    "# Utilizar el método proporcionado por el mixin\n",
    "print(juan.to_json())  # Output: {\"nombre\": \"Juan\", \"edad\": 30}\n"
   ]
  },
  {
   "cell_type": "code",
   "execution_count": 28,
   "id": "a6d7d888",
   "metadata": {},
   "outputs": [],
   "source": [
    "# Ejemplo de agregación\n",
    "class Rueda:\n",
    "    pass\n",
    "\n",
    "class Coche:\n",
    "    def __init__(self):\n",
    "        self.rueda_delantera_izquierda = Rueda()\n",
    "        self.rueda_delantera_derecha = Rueda()\n",
    "        self.rueda_trasera_izquierda = Rueda()\n",
    "        self.rueda_trasera_derecha = Rueda()\n",
    "\n",
    "# Ejemplo de composición\n",
    "class Motor:\n",
    "    def encender(self):\n",
    "        print(\"Motor encendido\")\n",
    "\n",
    "class Vehiculo:\n",
    "    def __init__(self):\n",
    "        self.motor = Motor()\n",
    "\n",
    "# Crear instancias de las clases\n",
    "coche = Coche()\n",
    "vehiculo = Vehiculo()\n",
    "\n",
    "# En la agregación, las ruedas pueden existir independientemente del coche\n",
    "# En la composición, el motor está completamente encapsulado dentro del vehículo\n"
   ]
  },
  {
   "cell_type": "code",
   "execution_count": 29,
   "id": "92661bd6",
   "metadata": {},
   "outputs": [
    {
     "name": "stdout",
     "output_type": "stream",
     "text": [
      "1\n",
      "2\n",
      "3\n",
      "4\n",
      "5\n"
     ]
    }
   ],
   "source": [
    "class Contador:\n",
    "    def __init__(self, limite):\n",
    "        self.limite = limite\n",
    "        self.valor_actual = 0\n",
    "    \n",
    "    def __iter__(self):\n",
    "        return self\n",
    "    \n",
    "    def __next__(self):\n",
    "        if self.valor_actual < self.limite:\n",
    "            self.valor_actual += 1\n",
    "            return self.valor_actual\n",
    "        else:\n",
    "            raise StopIteration\n",
    "\n",
    "# Crear un objeto de la clase Contador\n",
    "contador = Contador(5)\n",
    "\n",
    "# Utilizar la iteración personalizada\n",
    "for numero in contador:\n",
    "    print(numero)\n"
   ]
  },
  {
   "cell_type": "code",
   "execution_count": 30,
   "id": "5a12d136",
   "metadata": {},
   "outputs": [],
   "source": [
    "from fibo import fib as fibo"
   ]
  },
  {
   "cell_type": "code",
   "execution_count": 31,
   "id": "b91d00b0",
   "metadata": {},
   "outputs": [
    {
     "name": "stdout",
     "output_type": "stream",
     "text": [
      "0 1 1 2 3 5 8 \n"
     ]
    }
   ],
   "source": [
    "fibo(10)"
   ]
  },
  {
   "cell_type": "code",
   "execution_count": 32,
   "id": "db8ae9ed",
   "metadata": {},
   "outputs": [],
   "source": [
    "import fibo"
   ]
  },
  {
   "cell_type": "code",
   "execution_count": 33,
   "id": "aeafa462",
   "metadata": {},
   "outputs": [
    {
     "name": "stdout",
     "output_type": "stream",
     "text": [
      "[0, 1, 1, 2, 3, 5, 8]\n"
     ]
    }
   ],
   "source": [
    "print(fibo.fib2(10))"
   ]
  },
  {
   "cell_type": "code",
   "execution_count": 3,
   "id": "97d404a8",
   "metadata": {},
   "outputs": [],
   "source": [
    "# test_fibo.py\n",
    "import unittest\n",
    "from fibo import sumar \n",
    "\n",
    "class TestOperaciones(unittest.TestCase):\n",
    "    def test_sumar(self):\n",
    "        # Prueba básica de la función sumar\n",
    "        resultado = sumar(3, 5)\n",
    "        self.assertEqual(resultado, 8)  # Comprueba si el resultado es igual a 8\n",
    "\n",
    "        \n"
   ]
  },
  {
   "cell_type": "code",
   "execution_count": 4,
   "id": "780f31da",
   "metadata": {},
   "outputs": [
    {
     "name": "stderr",
     "output_type": "stream",
     "text": [
      ".\n",
      "----------------------------------------------------------------------\n",
      "Ran 1 test in 0.001s\n",
      "\n",
      "OK\n"
     ]
    },
    {
     "data": {
      "text/plain": [
       "<unittest.main.TestProgram at 0x7f3a740daa90>"
      ]
     },
     "execution_count": 4,
     "metadata": {},
     "output_type": "execute_result"
    }
   ],
   "source": [
    "unittest.main(argv=[''], exit=False)"
   ]
  },
  {
   "cell_type": "code",
   "execution_count": 5,
   "id": "f8b84f32",
   "metadata": {},
   "outputs": [
    {
     "name": "stdout",
     "output_type": "stream",
     "text": [
      "(1, 'Juan', 3000.0)\n",
      "(2, 'María', 3500.0)\n",
      "(3, 'Pedro', 3200.0)\n"
     ]
    }
   ],
   "source": [
    "import sqlite3\n",
    "\n",
    "# Conexión a la base de datos (creará el archivo de base de datos si no existe)\n",
    "conexion = sqlite3.connect('basededatos.db')\n",
    "\n",
    "# Crear una tabla\n",
    "conexion.execute('''CREATE TABLE IF NOT EXISTS empleados (\n",
    "                    id INTEGER PRIMARY KEY,\n",
    "                    nombre TEXT NOT NULL,\n",
    "                    salario REAL)''')\n",
    "\n",
    "# Insertar datos en la tabla\n",
    "conexion.execute(\"INSERT INTO empleados (nombre, salario) VALUES ('Juan', 3000)\")\n",
    "conexion.execute(\"INSERT INTO empleados (nombre, salario) VALUES ('María', 3500)\")\n",
    "conexion.execute(\"INSERT INTO empleados (nombre, salario) VALUES ('Pedro', 3200)\")\n",
    "\n",
    "# Consultar datos\n",
    "cursor = conexion.execute(\"SELECT * FROM empleados\")\n",
    "for fila in cursor:\n",
    "    print(fila)\n",
    "\n",
    "# Cerrar la conexión a la base de datos\n",
    "conexion.close()\n"
   ]
  },
  {
   "cell_type": "code",
   "execution_count": 2,
   "id": "11b09854",
   "metadata": {},
   "outputs": [
    {
     "name": "stdout",
     "output_type": "stream",
     "text": [
      "actualizacion 2\n"
     ]
    }
   ],
   "source": [
    "print (\"actualizacion 2\")"
   ]
  },
  {
   "cell_type": "code",
   "execution_count": null,
   "id": "68c8c719",
   "metadata": {},
   "outputs": [],
   "source": []
  }
 ],
 "metadata": {
  "kernelspec": {
   "display_name": "Python 3 (ipykernel)",
   "language": "python",
   "name": "python3"
  },
  "language_info": {
   "codemirror_mode": {
    "name": "ipython",
    "version": 3
   },
   "file_extension": ".py",
   "mimetype": "text/x-python",
   "name": "python",
   "nbconvert_exporter": "python",
   "pygments_lexer": "ipython3",
   "version": "3.9.13"
  }
 },
 "nbformat": 4,
 "nbformat_minor": 5
}
