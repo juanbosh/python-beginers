{
 "cells": [
  {
   "cell_type": "code",
   "execution_count": 18,
   "id": "3c9e071d",
   "metadata": {},
   "outputs": [
    {
     "name": "stdout",
     "output_type": "stream",
     "text": [
      "introduce un numero entero 7\n",
      "El factorial de 7 es 5040\n"
     ]
    }
   ],
   "source": [
    "number = int(input(\"introduce un numero entero \"))\n",
    "def fact(number:int) -> int:\n",
    "    if (number<0):\n",
    "        print(\"no existe un factorial de un entero negativo\")\n",
    "    elif (number == 0):\n",
    "        return 1\n",
    "    elif (number == 1):\n",
    "        return 1\n",
    "    else:\n",
    "        return number*fact(number-1)\n",
    "result = fact(number)    \n",
    "if result is not None:\n",
    "    print(f\"El factorial de {number} es {result}\")"
   ]
  },
  {
   "cell_type": "code",
   "execution_count": 27,
   "id": "fafa71c8",
   "metadata": {},
   "outputs": [
    {
     "name": "stdout",
     "output_type": "stream",
     "text": [
      "Introduce un número entero: 15\n",
      "El Fibonacci de 0 es 0\n",
      "El Fibonacci de 1 es 1\n",
      "El Fibonacci de 2 es 1\n",
      "El Fibonacci de 3 es 2\n",
      "El Fibonacci de 4 es 3\n",
      "El Fibonacci de 5 es 5\n",
      "El Fibonacci de 6 es 8\n",
      "El Fibonacci de 7 es 13\n",
      "El Fibonacci de 8 es 21\n",
      "El Fibonacci de 9 es 34\n",
      "El Fibonacci de 10 es 55\n",
      "El Fibonacci de 11 es 89\n",
      "El Fibonacci de 12 es 144\n",
      "El Fibonacci de 13 es 233\n",
      "El Fibonacci de 14 es 377\n"
     ]
    }
   ],
   "source": [
    "number = int(input(\"Introduce un número entero: \"))\n",
    "\n",
    "if number < 1:\n",
    "    print(\"No existe un Fibonacci de números negativos o cero.\")\n",
    "else:\n",
    "    def fibo(n: int) -> int:\n",
    "        if n < 0:\n",
    "            print(\"No existe un Fibonacci de un entero negativo.\")\n",
    "            return None\n",
    "        elif n == 0:\n",
    "            return 0\n",
    "        elif n == 1:\n",
    "            return 1\n",
    "        else:\n",
    "            return fibo(n - 1) + fibo(n - 2)\n",
    "\n",
    "    for i in range(number):\n",
    "        result = fibo(i)\n",
    "        if result is not None:\n",
    "            print(f\"El Fibonacci de {i} es {result}\")\n"
   ]
  },
  {
   "cell_type": "code",
   "execution_count": null,
   "id": "0d53be65",
   "metadata": {},
   "outputs": [],
   "source": []
  }
 ],
 "metadata": {
  "kernelspec": {
   "display_name": "Python 3 (ipykernel)",
   "language": "python",
   "name": "python3"
  },
  "language_info": {
   "codemirror_mode": {
    "name": "ipython",
    "version": 3
   },
   "file_extension": ".py",
   "mimetype": "text/x-python",
   "name": "python",
   "nbconvert_exporter": "python",
   "pygments_lexer": "ipython3",
   "version": "3.9.13"
  }
 },
 "nbformat": 4,
 "nbformat_minor": 5
}
