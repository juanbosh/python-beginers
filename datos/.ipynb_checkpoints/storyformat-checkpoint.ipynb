{
 "cells": [
  {
   "cell_type": "code",
   "execution_count": 1,
   "id": "9f65743a",
   "metadata": {},
   "outputs": [
    {
     "name": "stdout",
     "output_type": "stream",
     "text": [
      "There once was a fellow\n",
      "Who came from the meadow\n",
      "And desired to settle\n",
      "In caves of yellow\n"
     ]
    }
   ],
   "source": [
    "print(\"\"\"There once was a fellow\n",
    "Who came from the meadow\n",
    "And desired to settle\n",
    "In caves of yellow\"\"\")\n"
   ]
  },
  {
   "cell_type": "code",
   "execution_count": 7,
   "id": "c8b3b548",
   "metadata": {},
   "outputs": [
    {
     "name": "stdout",
     "output_type": "stream",
     "text": [
      "Enter an example for animal: bird\n",
      "Enter an example for food: semola\n",
      "Enter an example for city: brasil\n",
      "\n",
      "Once upon a time, deep in an ancient jungle,\n",
      "there lived a bird. This bird\n",
      "liked to eat semola, but the jungle had\n",
      "very little semola to offer. One day, an\n",
      "explorer found the bird and discovered\n",
      "it liked semola. The explorer took the\n",
      "bird back to brasil, where it could\n",
      "eat as much semola as it wanted. However,\n",
      "the bird became homesick, so the\n",
      "explorer brought it back to the jungle,\n",
      "leaving a large supply of semola.\n",
      "The End\n",
      "\n",
      "Press Enter to end the program.\n"
     ]
    },
    {
     "data": {
      "text/plain": [
       "''"
      ]
     },
     "execution_count": 7,
     "metadata": {},
     "output_type": "execute_result"
    }
   ],
   "source": [
    "storyFormat = '''\n",
    "Once upon a time, deep in an ancient jungle,\n",
    "there lived a {animal}. This {animal}\n",
    "liked to eat {food}, but the jungle had\n",
    "very little {food} to offer. One day, an\n",
    "explorer found the {animal} and discovered\n",
    "it liked {food}. The explorer took the\n",
    "{animal} back to {city}, where it could\n",
    "eat as much {food} as it wanted. However,\n",
    "the {animal} became homesick, so the\n",
    "explorer brought it back to the jungle,\n",
    "leaving a large supply of {food}.\n",
    "The End\n",
    "'''\n",
    "def tellStory():\n",
    "    userPicks = dict()\n",
    "    addPick('animal', userPicks)\n",
    "    addPick('food', userPicks)\n",
    "    addPick('city', userPicks)\n",
    "    story = storyFormat.format(**userPicks)\n",
    "    print(story)\n",
    "\n",
    "def addPick(cue, dictionary):\n",
    "    prompt = 'Enter an example for ' + cue + ': '\n",
    "    response = input(prompt)\n",
    "    dictionary[cue] = response\n",
    "tellStory()\n",
    "input('Press Enter to end the program.')\n"
   ]
  },
  {
   "cell_type": "code",
   "execution_count": null,
   "id": "7d385b11",
   "metadata": {},
   "outputs": [],
   "source": [
    "\n"
   ]
  },
  {
   "cell_type": "code",
   "execution_count": null,
   "id": "8bacdd16",
   "metadata": {},
   "outputs": [],
   "source": []
  }
 ],
 "metadata": {
  "kernelspec": {
   "display_name": "Python 3 (ipykernel)",
   "language": "python",
   "name": "python3"
  },
  "language_info": {
   "codemirror_mode": {
    "name": "ipython",
    "version": 3
   },
   "file_extension": ".py",
   "mimetype": "text/x-python",
   "name": "python",
   "nbconvert_exporter": "python",
   "pygments_lexer": "ipython3",
   "version": "3.9.13"
  }
 },
 "nbformat": 4,
 "nbformat_minor": 5
}
